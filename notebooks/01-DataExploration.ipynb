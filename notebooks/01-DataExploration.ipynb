{
 "cells": [
  {
   "cell_type": "markdown",
   "id": "c28f188c-3dd7-4814-9257-3a61a44fcc42",
   "metadata": {},
   "source": [
    "<center>\n",
    "    \n",
    "# **Call Center data exploration**\n",
    "    \n",
    "</center>"
   ]
  },
  {
   "cell_type": "markdown",
   "id": "9a44ad6c-3dec-4cd4-998b-851a2b882e3c",
   "metadata": {},
   "source": [
    "The data for this project has Call Center records from the year 2019. The Call Center Managers want to measure its performance based on certain metrics. The managers want to rise the metrics by improving the Workforce Management (WFM) process of scheduling and staffing agents"
   ]
  },
  {
   "cell_type": "code",
   "execution_count": 12,
   "id": "626f3811-698d-43bb-8ba6-1a54d34d80d8",
   "metadata": {},
   "outputs": [],
   "source": [
    "from utils import *\n",
    "\n",
    "import matplotlib.pyplot as plt\n",
    "plt.rcParams[\"figure.figsize\"] = (18,6)\n",
    "\n",
    "import warnings\n",
    "warnings.filterwarnings(\"ignore\")\n",
    "import logging\n",
    "logging.disable(logging.CRITICAL)"
   ]
  },
  {
   "cell_type": "markdown",
   "id": "72a99fd3-ae6a-4945-a7d4-f6f6b4224482",
   "metadata": {},
   "source": [
    "**Load one month**\n",
    "\n",
    "Load the information for the month of January 2019."
   ]
  },
  {
   "cell_type": "code",
   "execution_count": 13,
   "id": "7b557609-27a6-47ed-9494-7c8b3a43933a",
   "metadata": {},
   "outputs": [],
   "source": [
    "PATH = '/project/data'\n",
    "MONTH = '/01-january.csv'\n",
    "\n",
    "data = pd.read_csv(PATH + MONTH, parse_dates=['start_date'])\n",
    "data.set_index('start_date', inplace=True)\n",
    "\n",
    "data.drop(columns=['id_agn', 'id_ccl', 'id_cont', 'id_cmpg', 'id_sent', 'id_chan', 'id_rsn'], inplace=True)"
   ]
  },
  {
   "cell_type": "markdown",
   "id": "2cb0f86b-6bbf-45eb-9b64-e95be53e5ba2",
   "metadata": {},
   "source": [
    "Print out the first record. "
   ]
  },
  {
   "cell_type": "code",
   "execution_count": null,
   "id": "08e29672-0502-44ae-960e-2c8bef32dc54",
   "metadata": {},
   "outputs": [],
   "source": [
    "data.iloc[0]"
   ]
  },
  {
   "cell_type": "markdown",
   "id": "1648fa44-1e97-4b67-8567-4987ea472e00",
   "metadata": {},
   "source": [
    "The data store in January is normalized. The only information useful fo the analysis is that corresponding to the times in queues the contacts were."
   ]
  },
  {
   "cell_type": "markdown",
   "id": "7b8cec14-d7c0-492c-b063-bf83e097ed60",
   "metadata": {},
   "source": [
    "**Frequency**\n",
    "\n",
    "The frequency of the data can not be inferred with pandas. However, it is know in the call center management that hourly, the rates of incoming calls changes. It is a good idea to resample all the data hourly"
   ]
  },
  {
   "cell_type": "code",
   "execution_count": 14,
   "id": "fdc03d5b-18c6-4a24-a99f-524e0055126e",
   "metadata": {},
   "outputs": [],
   "source": [
    "# No inferred frequency\n",
    "pd.infer_freq(data.index)"
   ]
  },
  {
   "cell_type": "code",
   "execution_count": 15,
   "id": "fa251332-64fb-47d0-a0f7-2e251a09b2e4",
   "metadata": {},
   "outputs": [
    {
     "data": {
      "text/html": [
       "<div>\n",
       "<style scoped>\n",
       "    .dataframe tbody tr th:only-of-type {\n",
       "        vertical-align: middle;\n",
       "    }\n",
       "\n",
       "    .dataframe tbody tr th {\n",
       "        vertical-align: top;\n",
       "    }\n",
       "\n",
       "    .dataframe thead th {\n",
       "        text-align: right;\n",
       "    }\n",
       "</style>\n",
       "<table border=\"1\" class=\"dataframe\">\n",
       "  <thead>\n",
       "    <tr style=\"text-align: right;\">\n",
       "      <th></th>\n",
       "      <th>abandon</th>\n",
       "      <th>prequeue</th>\n",
       "      <th>inqueue</th>\n",
       "      <th>agent_time</th>\n",
       "      <th>postqueue</th>\n",
       "      <th>total_time</th>\n",
       "      <th>sla</th>\n",
       "      <th>abandon_time</th>\n",
       "    </tr>\n",
       "    <tr>\n",
       "      <th>start_date</th>\n",
       "      <th></th>\n",
       "      <th></th>\n",
       "      <th></th>\n",
       "      <th></th>\n",
       "      <th></th>\n",
       "      <th></th>\n",
       "      <th></th>\n",
       "      <th></th>\n",
       "    </tr>\n",
       "  </thead>\n",
       "  <tbody>\n",
       "    <tr>\n",
       "      <th>2019-01-01 00:00:00</th>\n",
       "      <td>11</td>\n",
       "      <td>173</td>\n",
       "      <td>293</td>\n",
       "      <td>0</td>\n",
       "      <td>1</td>\n",
       "      <td>0</td>\n",
       "      <td>0.0</td>\n",
       "      <td>467</td>\n",
       "    </tr>\n",
       "    <tr>\n",
       "      <th>2019-01-01 01:00:00</th>\n",
       "      <td>3</td>\n",
       "      <td>136</td>\n",
       "      <td>0</td>\n",
       "      <td>0</td>\n",
       "      <td>0</td>\n",
       "      <td>0</td>\n",
       "      <td>0.0</td>\n",
       "      <td>136</td>\n",
       "    </tr>\n",
       "    <tr>\n",
       "      <th>2019-01-01 02:00:00</th>\n",
       "      <td>1</td>\n",
       "      <td>37</td>\n",
       "      <td>0</td>\n",
       "      <td>0</td>\n",
       "      <td>0</td>\n",
       "      <td>0</td>\n",
       "      <td>0.0</td>\n",
       "      <td>37</td>\n",
       "    </tr>\n",
       "    <tr>\n",
       "      <th>2019-01-01 03:00:00</th>\n",
       "      <td>2</td>\n",
       "      <td>40</td>\n",
       "      <td>0</td>\n",
       "      <td>0</td>\n",
       "      <td>0</td>\n",
       "      <td>0</td>\n",
       "      <td>0.0</td>\n",
       "      <td>40</td>\n",
       "    </tr>\n",
       "    <tr>\n",
       "      <th>2019-01-01 04:00:00</th>\n",
       "      <td>0</td>\n",
       "      <td>0</td>\n",
       "      <td>0</td>\n",
       "      <td>0</td>\n",
       "      <td>0</td>\n",
       "      <td>0</td>\n",
       "      <td>0.0</td>\n",
       "      <td>0</td>\n",
       "    </tr>\n",
       "  </tbody>\n",
       "</table>\n",
       "</div>"
      ],
      "text/plain": [
       "                     abandon  prequeue  inqueue  agent_time  postqueue  \\\n",
       "start_date                                                               \n",
       "2019-01-01 00:00:00       11       173      293           0          1   \n",
       "2019-01-01 01:00:00        3       136        0           0          0   \n",
       "2019-01-01 02:00:00        1        37        0           0          0   \n",
       "2019-01-01 03:00:00        2        40        0           0          0   \n",
       "2019-01-01 04:00:00        0         0        0           0          0   \n",
       "\n",
       "                     total_time  sla  abandon_time  \n",
       "start_date                                          \n",
       "2019-01-01 00:00:00           0  0.0           467  \n",
       "2019-01-01 01:00:00           0  0.0           136  \n",
       "2019-01-01 02:00:00           0  0.0            37  \n",
       "2019-01-01 03:00:00           0  0.0            40  \n",
       "2019-01-01 04:00:00           0  0.0             0  "
      ]
     },
     "execution_count": 15,
     "metadata": {},
     "output_type": "execute_result"
    }
   ],
   "source": [
    "hourly = data.resample('H').sum()\n",
    "hourly.head()"
   ]
  },
  {
   "cell_type": "markdown",
   "id": "8265f743-e2fe-4a82-a397-ab64d1ccf660",
   "metadata": {},
   "source": [
    "**Disclaimer:** The resample method in pandas fills the missing values with zero. This is fix in the scripts under utils"
   ]
  },
  {
   "cell_type": "markdown",
   "id": "b9baa0f3-f3d3-48a4-a0e5-6546190ac8f8",
   "metadata": {},
   "source": [
    "Plot the number of abandonded calls by hour during the month of January. It shows a weekly pattern."
   ]
  },
  {
   "cell_type": "code",
   "execution_count": 16,
   "id": "9262bf7c-2569-4eb1-9461-be78f18914cd",
   "metadata": {},
   "outputs": [
    {
     "data": {
      "image/png": "[encoded data removed]",
      "text/plain": [
       "<Figure size 1296x432 with 1 Axes>"
      ]
     },
     "metadata": {
      "needs_background": "light"
     },
     "output_type": "display_data"
    }
   ],
   "source": [
    "hourly.abandon.plot();"
   ]
  },
  {
   "cell_type": "markdown",
   "id": "600d57a6-cf80-4fd9-af9e-5562358d276a",
   "metadata": {},
   "source": [
    "**Disclaimer:** The variable of interest is the daily calls volume per hour. This variable is not present in the original dataset, but its obtained in the utils scripts"
   ]
  },
  {
   "cell_type": "markdown",
   "id": "bda0a60b-7a38-49cf-9f41-de350d3cbea9",
   "metadata": {},
   "source": [
    "The scripts under utils manipulate the data to get usable data for prediction. The data goes through the following pipelines:\n",
    "\n",
    "1. Selects the columns `abandon`, `prequeue`, `inqueue`, `agent_time`, `postqueue`, `total_time` and `sla`\n",
    "2. Aggregate by day, hour and month of the year\n",
    "3. Creates the `calls_volume` variable by counting the number of records for the day, hour and month\n",
    "4. Fills missing hourly data using mean values for the month an hour"
   ]
  },
  {
   "cell_type": "markdown",
   "id": "90a314e9-0a97-4a34-a3bf-3d50953b281d",
   "metadata": {
    "tags": []
   },
   "source": [
    "## **Import all the data of the year**"
   ]
  },
  {
   "cell_type": "code",
   "execution_count": 17,
   "id": "81871aed-ce37-4f64-be6b-3d5a84cca479",
   "metadata": {},
   "outputs": [
    {
     "data": {
      "text/html": [
       "<div>\n",
       "<style scoped>\n",
       "    .dataframe tbody tr th:only-of-type {\n",
       "        vertical-align: middle;\n",
       "    }\n",
       "\n",
       "    .dataframe tbody tr th {\n",
       "        vertical-align: top;\n",
       "    }\n",
       "\n",
       "    .dataframe thead th {\n",
       "        text-align: right;\n",
       "    }\n",
       "</style>\n",
       "<table border=\"1\" class=\"dataframe\">\n",
       "  <thead>\n",
       "    <tr style=\"text-align: right;\">\n",
       "      <th></th>\n",
       "      <th></th>\n",
       "      <th></th>\n",
       "      <th>abandon</th>\n",
       "      <th>prequeue</th>\n",
       "      <th>inqueue</th>\n",
       "      <th>agent_time</th>\n",
       "      <th>postqueue</th>\n",
       "      <th>total_time</th>\n",
       "      <th>sla</th>\n",
       "      <th>calls_volume</th>\n",
       "    </tr>\n",
       "    <tr>\n",
       "      <th>day</th>\n",
       "      <th>hour</th>\n",
       "      <th>month</th>\n",
       "      <th></th>\n",
       "      <th></th>\n",
       "      <th></th>\n",
       "      <th></th>\n",
       "      <th></th>\n",
       "      <th></th>\n",
       "      <th></th>\n",
       "      <th></th>\n",
       "    </tr>\n",
       "  </thead>\n",
       "  <tbody>\n",
       "    <tr>\n",
       "      <th>8</th>\n",
       "      <th>10</th>\n",
       "      <th>8</th>\n",
       "      <td>60.0</td>\n",
       "      <td>7.730769</td>\n",
       "      <td>113.807692</td>\n",
       "      <td>137.675824</td>\n",
       "      <td>0.126374</td>\n",
       "      <td>235.098901</td>\n",
       "      <td>1.0</td>\n",
       "      <td>182.0</td>\n",
       "    </tr>\n",
       "    <tr>\n",
       "      <th>18</th>\n",
       "      <th>15</th>\n",
       "      <th>10</th>\n",
       "      <td>29.0</td>\n",
       "      <td>14.634328</td>\n",
       "      <td>81.955224</td>\n",
       "      <td>158.529851</td>\n",
       "      <td>0.119403</td>\n",
       "      <td>234.858209</td>\n",
       "      <td>1.0</td>\n",
       "      <td>134.0</td>\n",
       "    </tr>\n",
       "    <tr>\n",
       "      <th>5</th>\n",
       "      <th>17</th>\n",
       "      <th>8</th>\n",
       "      <td>29.0</td>\n",
       "      <td>9.376344</td>\n",
       "      <td>109.064516</td>\n",
       "      <td>105.290323</td>\n",
       "      <td>0.204301</td>\n",
       "      <td>192.505376</td>\n",
       "      <td>1.0</td>\n",
       "      <td>93.0</td>\n",
       "    </tr>\n",
       "    <tr>\n",
       "      <th>16</th>\n",
       "      <th>20</th>\n",
       "      <th>12</th>\n",
       "      <td>5.0</td>\n",
       "      <td>10.941176</td>\n",
       "      <td>63.308824</td>\n",
       "      <td>232.970588</td>\n",
       "      <td>0.161765</td>\n",
       "      <td>291.308824</td>\n",
       "      <td>1.0</td>\n",
       "      <td>68.0</td>\n",
       "    </tr>\n",
       "    <tr>\n",
       "      <th>17</th>\n",
       "      <th>10</th>\n",
       "      <th>1</th>\n",
       "      <td>9.0</td>\n",
       "      <td>7.889764</td>\n",
       "      <td>30.559055</td>\n",
       "      <td>206.84252</td>\n",
       "      <td>0.165354</td>\n",
       "      <td>241.590551</td>\n",
       "      <td>1.0</td>\n",
       "      <td>127.0</td>\n",
       "    </tr>\n",
       "  </tbody>\n",
       "</table>\n",
       "</div>"
      ],
      "text/plain": [
       "               abandon   prequeue     inqueue  agent_time postqueue  \\\n",
       "day hour month                                                        \n",
       "8   10   8        60.0   7.730769  113.807692  137.675824  0.126374   \n",
       "18  15   10       29.0  14.634328   81.955224  158.529851  0.119403   \n",
       "5   17   8        29.0   9.376344  109.064516  105.290323  0.204301   \n",
       "16  20   12        5.0  10.941176   63.308824  232.970588  0.161765   \n",
       "17  10   1         9.0   7.889764   30.559055   206.84252  0.165354   \n",
       "\n",
       "                total_time  sla calls_volume  \n",
       "day hour month                                \n",
       "8   10   8      235.098901  1.0        182.0  \n",
       "18  15   10     234.858209  1.0        134.0  \n",
       "5   17   8      192.505376  1.0         93.0  \n",
       "16  20   12     291.308824  1.0         68.0  \n",
       "17  10   1      241.590551  1.0        127.0  "
      ]
     },
     "execution_count": 17,
     "metadata": {},
     "output_type": "execute_result"
    }
   ],
   "source": [
    "# Load the yearly dataframe for prediction\n",
    "yearly = get_yearly_frame()\n",
    "yearly.sample(5, random_state = 42)"
   ]
  },
  {
   "cell_type": "markdown",
   "id": "657c4468-4729-46f9-bacf-230ea7381fa3",
   "metadata": {
    "tags": []
   },
   "source": [
    "## **Getting the Calls Volume per hour on first of january**"
   ]
  },
  {
   "cell_type": "markdown",
   "id": "3f48d221-ac04-4008-89bf-165d19d410e8",
   "metadata": {},
   "source": [
    "Select the data for the first of January 2019. The aggregated values shows that the activity was rather low in that day."
   ]
  },
  {
   "cell_type": "code",
   "execution_count": null,
   "id": "0d283054-47ea-4c51-ba12-54e935cfcfb4",
   "metadata": {},
   "outputs": [],
   "source": [
    "get_aggregated_daily_frame_for(day=1, data=yearly).loc[:,:,1].head(15)"
   ]
  },
  {
   "cell_type": "markdown",
   "id": "71cca1eb-6cd0-444d-887e-fc694ece49e6",
   "metadata": {},
   "source": [
    "Plotting the data corresponding to the first of January shows the calls follow a normal distribution calls volume with centered at 10:00 am with mean calls volume of 100 calls per hour"
   ]
  },
  {
   "cell_type": "code",
   "execution_count": null,
   "id": "d2499d6c-a990-4f82-b995-a6a6632dc175",
   "metadata": {},
   "outputs": [],
   "source": [
    "get_aggregated_daily_frame_for(day=1, data=yearly).loc[:, :, 1][['calls_volume']].sort_index().plot(figsize=(18,6), \n",
    "                                                                                                    title=\"Calls Volume by hour on January, 1st\");"
   ]
  },
  {
   "cell_type": "markdown",
   "id": "b0a81117-7bf6-4704-84c5-62bbb573aa89",
   "metadata": {
    "tags": []
   },
   "source": [
    "## **Getting the Calls Volume at 10 hrs in January**"
   ]
  },
  {
   "cell_type": "markdown",
   "id": "9107d73a-cef4-425a-88ad-89e3596dc603",
   "metadata": {},
   "source": [
    "The hourly rates are important and relevant. For example, considering all the calls volume at 10:00 in the month of January 2019 shows a weekly pattern suggesting the calls at a given hour is related to the day of the month"
   ]
  },
  {
   "cell_type": "markdown",
   "id": "8848af88-befb-4b50-9712-025533578c98",
   "metadata": {},
   "source": [
    "Plotting the data shows the weekly pattern with just slightly changes in the form of the distributions in between."
   ]
  },
  {
   "cell_type": "code",
   "execution_count": null,
   "id": "f331cfd9-ab27-4341-a10c-c8cb288e4c57",
   "metadata": {},
   "outputs": [],
   "source": [
    "get_aggregated_hourly_frame_for(hour=10, data = yearly)['calls_volume'].loc[:,:,1].plot(figsize=(18,6),\n",
    "                                                                                        title=\"Calls volume at 10:00 in January\");"
   ]
  },
  {
   "cell_type": "code",
   "execution_count": null,
   "id": "6a0930f1-2886-4596-bec9-9017f2786a83",
   "metadata": {},
   "outputs": [],
   "source": []
  }
 ],
 "metadata": {
  "kernelspec": {
   "display_name": "Python 3 (ipykernel)",
   "language": "python",
   "name": "python3"
  },
  "language_info": {
   "codemirror_mode": {
    "name": "ipython",
    "version": 3
   },
   "file_extension": ".py",
   "mimetype": "text/x-python",
   "name": "python",
   "nbconvert_exporter": "python",
   "pygments_lexer": "ipython3",
   "version": "3.9.5"
  }
 },
 "nbformat": 4,
 "nbformat_minor": 5
}
