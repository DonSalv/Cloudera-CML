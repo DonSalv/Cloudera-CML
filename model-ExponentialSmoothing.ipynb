{
 "cells": [
  {
   "cell_type": "markdown",
   "id": "5c5ea0ce-8ccf-4fe0-8c91-bc97c04556bb",
   "metadata": {},
   "source": [
    "<center>\n",
    "    \n",
    "# Exponential Smoothing algorithm to predict calls volume in a Call Center\n",
    "    \n",
    "</center>"
   ]
  },
  {
   "cell_type": "markdown",
   "id": "eb29a2dd-d57f-4ce1-bc30-656f99e8f9f4",
   "metadata": {},
   "source": [
    "This notebook uses Call Center data from 2019. The data is for one year of call logs. The Call Center Managers want to measure its performance based on certain metrics. The managers want to rise the metrics by improving the Workforce Management (WFM) process of scheduling and staffing agents. A machine learning approach is proposed as follows:\n",
    "\n",
    "1. Predict the daily calls volume \n",
    "2. Split the daily calls volume hourly\n",
    "\n",
    "An Expoential Smoothing algorithm is used to do the predictions."
   ]
  },
  {
   "cell_type": "markdown",
   "id": "7d873d74-eb2f-4292-b0bd-4817d346e9b2",
   "metadata": {},
   "source": [
    "**Importing libraries and data**"
   ]
  },
  {
   "cell_type": "code",
   "execution_count": 1,
   "id": "676fdc58-ba93-4d82-b9a3-de7aeceea898",
   "metadata": {},
   "outputs": [],
   "source": [
    "from utils import *\n",
    "\n",
    "import matplotlib.pyplot as plt\n",
    "plt.rcParams[\"figure.figsize\"] = (18,6)"
   ]
  },
  {
   "cell_type": "code",
   "execution_count": 2,
   "id": "bec99a00-5224-430c-936b-6c1dca56ada8",
   "metadata": {},
   "outputs": [],
   "source": [
    "import warnings\n",
    "warnings.filterwarnings(\"ignore\")\n",
    "import logging\n",
    "logging.disable(logging.CRITICAL)"
   ]
  },
  {
   "cell_type": "markdown",
   "id": "ce3cf761-1a63-4e07-84f0-b4e12700794c",
   "metadata": {},
   "source": [
    "**Data Preparation**\n",
    "\n",
    "1. The data in the files is monthly data corresponding to call center logs. The calls are registered as soon as they arrive to the call center. Aggregating by seconds or by minutes is useless since the theory of call centers suggest that the daily behavior of a call center is a Poisson model of hourly variable rate.\n",
    "\n",
    "2. Another important thing in the theory of modeling call centers is that the calls volume and the rates are also dependent on the day of the week. The present analysis use the day of the month instead to smooth the seasonality (usually weekly) to monthly seasonality. In this way, the missing data imputation is less prompt to bias.\n",
    "\n",
    "3. A target variable `calls volume` is created to register hourly calls volume. The numerical values of number of abandon calls, prequeue, inqueue, agent_time, postqueue, total_time and global sla achieve per hour are used as covariates (a covariate can be thought as a regressor)."
   ]
  },
  {
   "cell_type": "code",
   "execution_count": null,
   "id": "456c90c3-7275-4402-bd1f-45761b53e661",
   "metadata": {},
   "outputs": [],
   "source": [
    "# Load the yearly dataframe for prediction\n",
    "yearly = get_yearly_frame()\n",
    "yearly.sample(5, random_state = 42)"
   ]
  },
  {
   "cell_type": "markdown",
   "id": "3e446941-9b12-4794-946e-f80751bc2b00",
   "metadata": {
    "tags": []
   },
   "source": [
    "## **Using Exponential Smoothing**"
   ]
  },
  {
   "cell_type": "markdown",
   "id": "4670cbcb-9485-44ac-a072-cdff0b07ecfe",
   "metadata": {},
   "source": [
    "Consider the target variable `calls_volume` with historical data of 1 year. The frequency of this variable is hourly (`H`). The exponential smoothing algorithm don't use covariates, for this predictions the feature variables `prequeue`, `inqueue`, `agent_time`, and `postqueue` are left out."
   ]
  },
  {
   "cell_type": "code",
   "execution_count": null,
   "id": "ce09a2eb-34ed-4552-89d1-ec9b68f59d9e",
   "metadata": {},
   "outputs": [],
   "source": [
    "from darts import TimeSeries\n",
    "from darts.models import ExponentialSmoothing\n",
    "\n",
    "from darts.metrics import coefficient_of_variation, mae"
   ]
  },
  {
   "cell_type": "markdown",
   "id": "0a635da3-7474-47d0-903a-b6a4a61f3155",
   "metadata": {},
   "source": [
    "Using Darts library, create the time series for the `calls_volume` target variable."
   ]
  },
  {
   "cell_type": "code",
   "execution_count": null,
   "id": "75589cee-03b3-43d4-8b0a-e54c4a837f6a",
   "metadata": {},
   "outputs": [],
   "source": [
    "# Get the datafram for the year correctly formatted\n",
    "df = get_formatted_time_series_frame_from(data=yearly, year=\"2019\")\n",
    "\n",
    "# Split Dataframe in Variables and Features\n",
    "variable = df['calls_volume']\n",
    "features = df[['prequeue', 'inqueue', 'agent_time', 'postqueue']] # 'total_time', 'abandon', 'sla'\n",
    "\n",
    "# Get the darts Time Series objects\n",
    "ts_variable = TimeSeries.from_series(variable,\n",
    "                                     freq='H')\n",
    "# ts_features = TimeSeries.from_dataframe(features, \n",
    "#                                         freq='H')"
   ]
  },
  {
   "cell_type": "markdown",
   "id": "9c0fe2e6-6d3b-4efe-b744-7e4cae39cda0",
   "metadata": {
    "tags": []
   },
   "source": [
    "### **Use of Exponential Smoothing to forecast hourly calls volume - Self historical test**"
   ]
  },
  {
   "cell_type": "markdown",
   "id": "1e11e413-fb93-4b55-92d1-f2eb81e05223",
   "metadata": {},
   "source": [
    "As the above description suggest, the weekly seasonal behavior of 7 days impose to look back to the same amount of time to predict accurately. This is the reason to select $24\\times 7=168$ lags past covariates. "
   ]
  },
  {
   "cell_type": "code",
   "execution_count": null,
   "id": "1f376b54-0fbb-4d5a-b4b0-72acb0df047a",
   "metadata": {},
   "outputs": [],
   "source": [
    "model_exponentialsmoothing = ExponentialSmoothing(seasonal_periods=168)"
   ]
  },
  {
   "cell_type": "markdown",
   "id": "01629390-a35b-4294-bf78-9c3add1d841a",
   "metadata": {},
   "source": [
    "Train the model in the `ts_variable`"
   ]
  },
  {
   "cell_type": "code",
   "execution_count": null,
   "id": "b9af9809-f5b4-439d-bff4-64e59180c9ea",
   "metadata": {},
   "outputs": [],
   "source": [
    "model_exponentialsmoothing.fit(series=ts_variable)"
   ]
  },
  {
   "cell_type": "markdown",
   "id": "1e4dfb76-5ca3-4d63-938d-9fa2750e0543",
   "metadata": {},
   "source": [
    "Instead of making new predictions with the model, use it to generate a historical forecast. In this sense, the performance of the algorithm is measure  for one year of data, and the validity of the results will generalize"
   ]
  },
  {
   "cell_type": "code",
   "execution_count": null,
   "id": "7705a8cd-ca9d-4a1a-bb27-3f431b4aa650",
   "metadata": {},
   "outputs": [],
   "source": [
    "pred_series = model_exponentialsmoothing.historical_forecasts(series=ts_variable[-1000:], #[-336:],\n",
    "                                                              forecast_horizon=7,\n",
    "                                                              stride=1,\n",
    "                                                              verbose=True)"
   ]
  },
  {
   "cell_type": "markdown",
   "id": "b97b49bb-1ebe-4d2e-8998-d9701b878344",
   "metadata": {},
   "source": [
    "**Visualizing the historical prediction**"
   ]
  },
  {
   "cell_type": "markdown",
   "id": "0fb6f051-3356-4392-946b-27c1d1b8b464",
   "metadata": {},
   "source": [
    "Plot the last week of the actual data against the predicted historical data. It shows an accuracy of around 63 % according to R-RMSE metric.\n",
    "\n",
    "Exponential smoothing is a proven method. It is widely used for the managers. Having this highe performance in terms of accuracty makes it the natural choice of forecasting algorithm."
   ]
  },
  {
   "cell_type": "code",
   "execution_count": null,
   "id": "08220ac8-a579-4868-820f-a2215148364a",
   "metadata": {},
   "outputs": [],
   "source": [
    "plot_prediction_and_test(target = ts_variable[-168:],\n",
    "                         prediction= pred_series[-168:]);"
   ]
  },
  {
   "cell_type": "markdown",
   "id": "632f2f12-b7ac-4e1d-afe6-7aeb3c4882a8",
   "metadata": {
    "tags": []
   },
   "source": [
    "### **Use of Exponential Smoothing to forecast hourly calls volume - Testing with features**"
   ]
  },
  {
   "cell_type": "markdown",
   "id": "78b1fff8-5f81-4227-be10-d2265bd6d249",
   "metadata": {},
   "source": [
    "Making predictions with exponential smoothing is highly dependent on the most recent data. Since one week is the recomended seasonality from call center management theory consider 1 % of the data as the test set."
   ]
  },
  {
   "cell_type": "code",
   "execution_count": null,
   "id": "f7e826ed-4f40-4885-8387-8175eac33f3b",
   "metadata": {},
   "outputs": [],
   "source": [
    "# Split the dataset into train / set\n",
    "train_variable, test_variable = ts_variable.split_after(0.99)"
   ]
  },
  {
   "cell_type": "markdown",
   "id": "e0f8d7ef-7421-4de9-9b91-4ebb04850cf5",
   "metadata": {},
   "source": [
    "Use 168 periods (this mean 1 week) as seasonal perdios for the model."
   ]
  },
  {
   "cell_type": "code",
   "execution_count": null,
   "id": "f3aa1a7b-14d1-4907-86d8-b63a485fd108",
   "metadata": {},
   "outputs": [],
   "source": [
    "test_model = ExponentialSmoothing(seasonal_periods=168)"
   ]
  },
  {
   "cell_type": "code",
   "execution_count": null,
   "id": "da74853a-bbaf-4a22-b2c0-af8c0aa27c5b",
   "metadata": {},
   "outputs": [],
   "source": [
    "# Train the model in the corresponding train time series\n",
    "test_model.fit(series=train_variable)"
   ]
  },
  {
   "cell_type": "code",
   "execution_count": null,
   "id": "e7f0d9e3-26f5-4d41-9f35-7bb84e95dd60",
   "metadata": {},
   "outputs": [],
   "source": [
    "prediction = test_model.predict(n=len(test_variable))"
   ]
  },
  {
   "cell_type": "markdown",
   "id": "2eeafd0e-55d5-4d1e-b9bd-329461c2876c",
   "metadata": {},
   "source": [
    "**Visualizing the test prediction**"
   ]
  },
  {
   "cell_type": "code",
   "execution_count": null,
   "id": "33adf7da-c516-42fc-b23a-728d1a513f89",
   "metadata": {},
   "outputs": [],
   "source": [
    "plot_prediction_and_test(target=test_variable, \n",
    "                         prediction=prediction);"
   ]
  },
  {
   "cell_type": "markdown",
   "id": "52970a31-5707-4e43-a7e6-cbd2e36fa111",
   "metadata": {
    "tags": []
   },
   "source": [
    "### **Resampling the prediction**"
   ]
  },
  {
   "cell_type": "markdown",
   "id": "f0a10dc1-bb7f-470e-980a-dc9de3fdb76d",
   "metadata": {},
   "source": [
    "Scheduling staff in the call center gets improved when the aggregation time is for one shift of 8 hours. By just resampling the prediction and test variables, the R-RMSE improves for almost 5 %"
   ]
  },
  {
   "cell_type": "code",
   "execution_count": null,
   "id": "90439b91-3970-4a5a-91d0-751e84685eb8",
   "metadata": {},
   "outputs": [],
   "source": [
    "r_train_variable = train_variable.resample(freq='8h',\n",
    "                                           method='pad')\n",
    "r_test_variable = test_variable.resample(freq='8h', \n",
    "                                         method='pad')\n",
    "r_prediction = prediction.resample(freq='8h',\n",
    "                                   method='pad')"
   ]
  },
  {
   "cell_type": "code",
   "execution_count": null,
   "id": "d27f5409-c143-4ef3-9acf-cb1fc985432f",
   "metadata": {},
   "outputs": [],
   "source": [
    "plot_prediction_and_test(target= r_test_variable, \n",
    "                         prediction=r_prediction);"
   ]
  },
  {
   "cell_type": "markdown",
   "id": "0d53cc58-ad06-4b4b-ac88-0ce7880af9eb",
   "metadata": {},
   "source": [
    "**Plotting the resampled series with train set included**"
   ]
  },
  {
   "cell_type": "code",
   "execution_count": null,
   "id": "7a68915c-8447-443e-816a-8e803e000809",
   "metadata": {},
   "outputs": [],
   "source": [
    "plot_predict(train_target=r_train_variable[-96:],\n",
    "             test_target=r_test_variable,\n",
    "             prediction=r_prediction,\n",
    "             low_percentile=0.05);"
   ]
  }
 ],
 "metadata": {
  "kernelspec": {
   "display_name": "Python 3 (ipykernel)",
   "language": "python",
   "name": "python3"
  },
  "language_info": {
   "codemirror_mode": {
    "name": "ipython",
    "version": 3
   },
   "file_extension": ".py",
   "mimetype": "text/x-python",
   "name": "python",
   "nbconvert_exporter": "python",
   "pygments_lexer": "ipython3",
   "version": "3.9.5"
  }
 },
 "nbformat": 4,
 "nbformat_minor": 5
}
