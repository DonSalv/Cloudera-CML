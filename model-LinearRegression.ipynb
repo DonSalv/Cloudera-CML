{
 "cells": [
  {
   "cell_type": "markdown",
   "id": "5c5ea0ce-8ccf-4fe0-8c91-bc97c04556bb",
   "metadata": {},
   "source": [
    "<center>\n",
    "    \n",
    "# Linear Regression algorithm to predict calls volume in a Call Center\n",
    "    \n",
    "</center>"
   ]
  },
  {
   "cell_type": "markdown",
   "id": "eb29a2dd-d57f-4ce1-bc30-656f99e8f9f4",
   "metadata": {},
   "source": [
    "This notebook uses Call Center data from 2019. The data is for one year of call logs. The Call Center Managers want to measure its performance based on certain metrics. The managers want to rise the metrics by improving the Workforce Management (WFM) process of scheduling and staffing agents. A machine learning approach is proposed as follows:\n",
    "\n",
    "1. Predict the daily calls volume \n",
    "2. Split the daily calls volume hourly\n",
    "\n",
    "Linear Regression algorithm is used to do the predictions."
   ]
  },
  {
   "cell_type": "markdown",
   "id": "7d873d74-eb2f-4292-b0bd-4817d346e9b2",
   "metadata": {},
   "source": [
    "**Importing libraries and data**"
   ]
  },
  {
   "cell_type": "code",
   "execution_count": 1,
   "id": "676fdc58-ba93-4d82-b9a3-de7aeceea898",
   "metadata": {},
   "outputs": [],
   "source": [
    "from utils import *\n",
    "\n",
    "import matplotlib.pyplot as plt\n",
    "plt.rcParams[\"figure.figsize\"] = (18,6)"
   ]
  },
  {
   "cell_type": "code",
   "execution_count": 2,
   "id": "bec99a00-5224-430c-936b-6c1dca56ada8",
   "metadata": {},
   "outputs": [],
   "source": [
    "import warnings\n",
    "warnings.filterwarnings(\"ignore\")\n",
    "import logging\n",
    "logging.disable(logging.CRITICAL)"
   ]
  },
  {
   "cell_type": "markdown",
   "id": "ce3cf761-1a63-4e07-84f0-b4e12700794c",
   "metadata": {},
   "source": [
    "**Data Preparation**\n",
    "\n",
    "1. The data in the files is monthly data corresponding to call center logs. The calls are registered as soon as they arrive to the call center. Aggregating by seconds or by minutes is useless since the theory of call centers suggest that the daily behavior of a call center is a Poisson model of hourly variable rate.\n",
    "\n",
    "2. Another important thing in the theory of modeling call centers is that the calls volume and the rates are also dependent on the day of the week. The present analysis use the day of the month instead to smooth the seasonality (usually weekly) to monthly seasonality. In this way, the missing data imputation is less prompt to bias.\n",
    "\n",
    "3. A target variable `calls volume` is created to register hourly calls volume. The numerical values of number of abandon calls, prequeue, inqueue, agent_time, postqueue, total_time and global sla achieve per hour are used as covariates (a covariate can be thought as a regressor)."
   ]
  },
  {
   "cell_type": "code",
   "execution_count": 3,
   "id": "456c90c3-7275-4402-bd1f-45761b53e661",
   "metadata": {},
   "outputs": [
    {
     "data": {
      "text/plain": "                abandon  prequeue  inqueue  agent_time  postqueue  total_time  \\\nday hour month                                                                  \n10  9    9          0.0       0.0      0.0         0.0        0.0         0.0   \n20  17   8          0.0       0.0      0.0         0.0        0.0         0.0   \n7   18   9          0.0       0.0      0.0         0.0        0.0         0.0   \n16  21   11         0.0       0.0      0.0         0.0        0.0         0.0   \n19  10   5          0.0       0.0      0.0         0.0        0.0         0.0   \n\n                sla  calls_volume  \nday hour month                     \n10  9    9      0.0           0.0  \n20  17   8      0.0           0.0  \n7   18   9      0.0           0.0  \n16  21   11     0.0           0.0  \n19  10   5      0.0           0.0  ",
      "text/html": "<div>\n<style scoped>\n    .dataframe tbody tr th:only-of-type {\n        vertical-align: middle;\n    }\n\n    .dataframe tbody tr th {\n        vertical-align: top;\n    }\n\n    .dataframe thead th {\n        text-align: right;\n    }\n</style>\n<table border=\"1\" class=\"dataframe\">\n  <thead>\n    <tr style=\"text-align: right;\">\n      <th></th>\n      <th></th>\n      <th></th>\n      <th>abandon</th>\n      <th>prequeue</th>\n      <th>inqueue</th>\n      <th>agent_time</th>\n      <th>postqueue</th>\n      <th>total_time</th>\n      <th>sla</th>\n      <th>calls_volume</th>\n    </tr>\n    <tr>\n      <th>day</th>\n      <th>hour</th>\n      <th>month</th>\n      <th></th>\n      <th></th>\n      <th></th>\n      <th></th>\n      <th></th>\n      <th></th>\n      <th></th>\n      <th></th>\n    </tr>\n  </thead>\n  <tbody>\n    <tr>\n      <th>10</th>\n      <th>9</th>\n      <th>9</th>\n      <td>0.0</td>\n      <td>0.0</td>\n      <td>0.0</td>\n      <td>0.0</td>\n      <td>0.0</td>\n      <td>0.0</td>\n      <td>0.0</td>\n      <td>0.0</td>\n    </tr>\n    <tr>\n      <th>20</th>\n      <th>17</th>\n      <th>8</th>\n      <td>0.0</td>\n      <td>0.0</td>\n      <td>0.0</td>\n      <td>0.0</td>\n      <td>0.0</td>\n      <td>0.0</td>\n      <td>0.0</td>\n      <td>0.0</td>\n    </tr>\n    <tr>\n      <th>7</th>\n      <th>18</th>\n      <th>9</th>\n      <td>0.0</td>\n      <td>0.0</td>\n      <td>0.0</td>\n      <td>0.0</td>\n      <td>0.0</td>\n      <td>0.0</td>\n      <td>0.0</td>\n      <td>0.0</td>\n    </tr>\n    <tr>\n      <th>16</th>\n      <th>21</th>\n      <th>11</th>\n      <td>0.0</td>\n      <td>0.0</td>\n      <td>0.0</td>\n      <td>0.0</td>\n      <td>0.0</td>\n      <td>0.0</td>\n      <td>0.0</td>\n      <td>0.0</td>\n    </tr>\n    <tr>\n      <th>19</th>\n      <th>10</th>\n      <th>5</th>\n      <td>0.0</td>\n      <td>0.0</td>\n      <td>0.0</td>\n      <td>0.0</td>\n      <td>0.0</td>\n      <td>0.0</td>\n      <td>0.0</td>\n      <td>0.0</td>\n    </tr>\n  </tbody>\n</table>\n</div>"
     },
     "execution_count": 3,
     "metadata": {},
     "output_type": "execute_result"
    }
   ],
   "source": [
    "# Load the yearly dataframe for prediction\n",
    "yearly = get_yearly_frame()\n",
    "yearly.sample(5, random_state = 42)"
   ]
  },
  {
   "cell_type": "markdown",
   "id": "3e446941-9b12-4794-946e-f80751bc2b00",
   "metadata": {
    "tags": []
   },
   "source": [
    "## **Using Linear Regression**"
   ]
  },
  {
   "cell_type": "markdown",
   "id": "4670cbcb-9485-44ac-a072-cdff0b07ecfe",
   "metadata": {},
   "source": [
    "Consider the target variable `calls_volume` with historical data of 1 year. The frequency of this variable is hourly (`H`). The covariates for this predictions will be `prequeue`, `inqueue`, `agent_time`, and `postqueue` features of the data frame."
   ]
  },
  {
   "cell_type": "code",
   "execution_count": 4,
   "id": "ce09a2eb-34ed-4552-89d1-ec9b68f59d9e",
   "metadata": {},
   "outputs": [],
   "source": [
    "from darts import TimeSeries\n",
    "from darts.models import LinearRegressionModel\n",
    "\n",
    "from darts.metrics import coefficient_of_variation, mae"
   ]
  },
  {
   "cell_type": "markdown",
   "id": "0a635da3-7474-47d0-903a-b6a4a61f3155",
   "metadata": {},
   "source": [
    "Using Darts library, create the time series for the `calls_volume` target variable and the multi time series for the `features`. "
   ]
  },
  {
   "cell_type": "code",
   "execution_count": 5,
   "id": "75589cee-03b3-43d4-8b0a-e54c4a837f6a",
   "metadata": {},
   "outputs": [],
   "source": [
    "# Get the datafram for the year correctly formatted\n",
    "df = get_formatted_time_series_frame_from(data=yearly, year=\"2019\")\n",
    "\n",
    "# Split Dataframe in Variables and Features\n",
    "variable = df['calls_volume']\n",
    "features = df[['prequeue', 'inqueue', 'agent_time', 'postqueue']] # 'total_time', 'abandon', 'sla'\n",
    "\n",
    "# Get the darts Time Series objects\n",
    "ts_variable = TimeSeries.from_series(variable,\n",
    "                                     freq='H')\n",
    "ts_features = TimeSeries.from_dataframe(features, \n",
    "                                        freq='H')"
   ]
  },
  {
   "cell_type": "markdown",
   "id": "9c0fe2e6-6d3b-4efe-b744-7e4cae39cda0",
   "metadata": {
    "tags": []
   },
   "source": [
    "### **Use of Linear Regression to forecast hourly calls volume - Self historical test**"
   ]
  },
  {
   "cell_type": "markdown",
   "id": "1e11e413-fb93-4b55-92d1-f2eb81e05223",
   "metadata": {},
   "source": [
    "As the above description suggest, the weekly seasonal behavior of 7 days impose to look back to the same amount of time in the covariates. This is the reason to select $24\\times 7=168$ lags past covariates. "
   ]
  },
  {
   "cell_type": "code",
   "execution_count": 6,
   "id": "6bffe668-0433-40fa-a48b-4f000b0d405f",
   "metadata": {},
   "outputs": [],
   "source": [
    "# Works well with 24, 48, and 168 hrs.\n",
    "model_linregres = LinearRegressionModel(lags = 168,\n",
    "                                        lags_past_covariates = 168, \n",
    "                                        likelihood = 'poisson',\n",
    "                                        quantiles = [0.1, 0.9],\n",
    "                                        random_state = 42\n",
    "                                        )"
   ]
  },
  {
   "cell_type": "markdown",
   "id": "01629390-a35b-4294-bf78-9c3add1d841a",
   "metadata": {},
   "source": [
    "Train the model in the ts_variable and the ts_features"
   ]
  },
  {
   "cell_type": "code",
   "execution_count": 7,
   "id": "1daa3ca0-743a-47ca-8743-189bf2679deb",
   "metadata": {},
   "outputs": [
    {
     "data": {
      "text/plain": "<darts.models.forecasting.linear_regression_model.LinearRegressionModel at 0x1ee309e1848>"
     },
     "execution_count": 7,
     "metadata": {},
     "output_type": "execute_result"
    }
   ],
   "source": [
    "model_linregres.fit(series=ts_variable, \n",
    "                    past_covariates=ts_features)"
   ]
  },
  {
   "cell_type": "markdown",
   "id": "1e4dfb76-5ca3-4d63-938d-9fa2750e0543",
   "metadata": {},
   "source": [
    "Instead of making new predictions with the model, use it to generate a historical forecast. In this sense, the performance of the algorithm is measure  for one year of data, and the validity of the results will generalize"
   ]
  },
  {
   "cell_type": "code",
   "execution_count": 8,
   "id": "85e0be10-bf25-4398-95c6-82f7a09a17b4",
   "metadata": {},
   "outputs": [
    {
     "data": {
      "text/plain": "  0%|          | 0/4375 [00:00<?, ?it/s]",
      "application/vnd.jupyter.widget-view+json": {
       "version_major": 2,
       "version_minor": 0,
       "model_id": "54388ea58a784ae88a2f5db91255301c"
      }
     },
     "metadata": {},
     "output_type": "display_data"
    }
   ],
   "source": [
    "pred_series = model_linregres.historical_forecasts(series=ts_variable,\n",
    "                                                  forecast_horizon=7,\n",
    "                                                  stride=1, \n",
    "                                                  retrain=False,\n",
    "                                                  verbose=True,\n",
    "                                                 )"
   ]
  },
  {
   "cell_type": "markdown",
   "id": "b97b49bb-1ebe-4d2e-8998-d9701b878344",
   "metadata": {},
   "source": [
    "**Visualizing the historical prediction**"
   ]
  },
  {
   "cell_type": "markdown",
   "id": "0fb6f051-3356-4392-946b-27c1d1b8b464",
   "metadata": {},
   "source": [
    "Plot the last week of the actual data against the predicted historical data. It is an arratic output with almost 96 % of mistakes in predicting."
   ]
  },
  {
   "cell_type": "code",
   "execution_count": 9,
   "id": "cf03c20e-1e64-4b80-a616-b682c7f0171f",
   "metadata": {},
   "outputs": [
    {
     "data": {
      "text/plain": "<Figure size 1296x432 with 1 Axes>",
      "image/png": "[encoded data removed]"
     },
     "metadata": {
      "needs_background": "light"
     },
     "output_type": "display_data"
    }
   ],
   "source": [
    "plot_prediction_and_test(target = ts_variable[-168:],\n",
    "                         prediction= pred_series[-168:]);"
   ]
  },
  {
   "cell_type": "markdown",
   "id": "632f2f12-b7ac-4e1d-afe6-7aeb3c4882a8",
   "metadata": {
    "tags": []
   },
   "source": [
    "### **Use of Linear Regression to forecast hourly calls volume - Testing with features**"
   ]
  },
  {
   "cell_type": "markdown",
   "id": "78b1fff8-5f81-4227-be10-d2265bd6d249",
   "metadata": {},
   "source": [
    "Since one week is around 2 % of a year, select 5 % of the data to be the test set and the 95% to be the training set."
   ]
  },
  {
   "cell_type": "code",
   "execution_count": 10,
   "id": "f7e826ed-4f40-4885-8387-8175eac33f3b",
   "metadata": {},
   "outputs": [],
   "source": [
    "# Split the dataset into train / set\n",
    "train_variable, test_variable = ts_variable.split_after(0.95)\n",
    "train_features, test_features = ts_features.split_after(0.95)"
   ]
  },
  {
   "cell_type": "markdown",
   "id": "e0f8d7ef-7421-4de9-9b91-4ebb04850cf5",
   "metadata": {},
   "source": [
    "The linear regression model has lags of 168 periods (this mean 1 week) that matches also the past covariates lags. "
   ]
  },
  {
   "cell_type": "code",
   "execution_count": 11,
   "id": "fd49a3f1-f44f-474f-aed8-f0d2e38305f7",
   "metadata": {},
   "outputs": [],
   "source": [
    "test_model = LinearRegressionModel(lags = 168,\n",
    "                                   lags_past_covariates = 168, \n",
    "                                   likelihood = 'poisson',\n",
    "                                   quantiles = [0.1, 0.9],\n",
    "                                   random_state = 42\n",
    "                                  )"
   ]
  },
  {
   "cell_type": "code",
   "execution_count": 12,
   "id": "da74853a-bbaf-4a22-b2c0-af8c0aa27c5b",
   "metadata": {},
   "outputs": [
    {
     "data": {
      "text/plain": "<darts.models.forecasting.linear_regression_model.LinearRegressionModel at 0x1ee30aeaa48>"
     },
     "execution_count": 12,
     "metadata": {},
     "output_type": "execute_result"
    }
   ],
   "source": [
    "# Train the model in the corresponding train time series\n",
    "test_model.fit(series=train_variable,\n",
    "               past_covariates=train_features)"
   ]
  },
  {
   "cell_type": "code",
   "execution_count": 13,
   "id": "e7f0d9e3-26f5-4d41-9f35-7bb84e95dd60",
   "metadata": {},
   "outputs": [],
   "source": [
    "prediction = test_model.predict(n=len(test_variable),\n",
    "                                num_samples=100,\n",
    "                                series=train_variable,\n",
    "                                past_covariates=ts_features)"
   ]
  },
  {
   "cell_type": "markdown",
   "id": "2eeafd0e-55d5-4d1e-b9bd-329461c2876c",
   "metadata": {},
   "source": [
    "**Visualizing the test prediction**"
   ]
  },
  {
   "cell_type": "code",
   "execution_count": 14,
   "id": "33adf7da-c516-42fc-b23a-728d1a513f89",
   "metadata": {},
   "outputs": [
    {
     "data": {
      "text/plain": "<Figure size 1296x432 with 1 Axes>",
      "image/png": "[encoded data removed]"
     },
     "metadata": {
      "needs_background": "light"
     },
     "output_type": "display_data"
    }
   ],
   "source": [
    "plot_prediction_and_test(target=test_variable, \n",
    "                         prediction=prediction);"
   ]
  },
  {
   "cell_type": "markdown",
   "id": "52970a31-5707-4e43-a7e6-cbd2e36fa111",
   "metadata": {
    "tags": []
   },
   "source": [
    "### **Resampling the prediction**"
   ]
  },
  {
   "cell_type": "markdown",
   "id": "f0a10dc1-bb7f-470e-980a-dc9de3fdb76d",
   "metadata": {},
   "source": [
    "Scheduling staff in the call center gets improved when the aggregation time is for one shift of 8 hours. By just resampling the prediction and test variables, the R-RMSE improves for almost 6 % but it still performing poorly."
   ]
  },
  {
   "cell_type": "code",
   "execution_count": 15,
   "id": "90439b91-3970-4a5a-91d0-751e84685eb8",
   "metadata": {},
   "outputs": [],
   "source": [
    "r_train_variable = train_variable.resample(freq='8h',\n",
    "                                           method='pad')\n",
    "r_test_variable = test_variable.resample(freq='8h', \n",
    "                                         method='pad')\n",
    "r_prediction = prediction.resample(freq='8h',\n",
    "                                   method='pad')"
   ]
  },
  {
   "cell_type": "code",
   "execution_count": 16,
   "id": "d27f5409-c143-4ef3-9acf-cb1fc985432f",
   "metadata": {},
   "outputs": [
    {
     "data": {
      "text/plain": "<Figure size 1296x432 with 1 Axes>",
      "image/png": "[encoded data removed]"
     },
     "metadata": {
      "needs_background": "light"
     },
     "output_type": "display_data"
    }
   ],
   "source": [
    "plot_prediction_and_test(target= r_test_variable, \n",
    "                         prediction=r_prediction);"
   ]
  },
  {
   "cell_type": "markdown",
   "id": "0d53cc58-ad06-4b4b-ac88-0ce7880af9eb",
   "metadata": {},
   "source": [
    "**Plotting the resampled series with train set included**"
   ]
  },
  {
   "cell_type": "code",
   "execution_count": 17,
   "id": "7a68915c-8447-443e-816a-8e803e000809",
   "metadata": {},
   "outputs": [
    {
     "data": {
      "text/plain": "<Figure size 1296x432 with 1 Axes>",
      "image/png": "[encoded data removed]"
     },
     "metadata": {
      "needs_background": "light"
     },
     "output_type": "display_data"
    }
   ],
   "source": [
    "plot_predict(train_target=r_train_variable[-96:],\n",
    "             test_target=r_test_variable,\n",
    "             prediction=r_prediction,\n",
    "             low_percentile=0.05);"
   ]
  }
 ],
 "metadata": {
  "kernelspec": {
   "display_name": "Python 3 (ipykernel)",
   "language": "python",
   "name": "python3"
  },
  "language_info": {
   "codemirror_mode": {
    "name": "ipython",
    "version": 3
   },
   "file_extension": ".py",
   "mimetype": "text/x-python",
   "name": "python",
   "nbconvert_exporter": "python",
   "pygments_lexer": "ipython3",
   "version": "3.9.5"
  }
 },
 "nbformat": 4,
 "nbformat_minor": 5
}